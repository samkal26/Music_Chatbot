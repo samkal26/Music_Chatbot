{
  "nbformat": 4,
  "nbformat_minor": 0,
  "metadata": {
    "colab": {
      "name": "Untitled5.ipynb",
      "provenance": [],
      "collapsed_sections": []
    },
    "kernelspec": {
      "name": "python3",
      "display_name": "Python 3"
    },
    "language_info": {
      "name": "python"
    }
  },
  "cells": [
    {
      "cell_type": "code",
      "execution_count": 2,
      "metadata": {
        "id": "Q8hxI5_rv7OJ"
      },
      "outputs": [],
      "source": [
        "import pandas \n",
        "import sklearn\n",
        "from sklearn.model_selection import train_test_split\n",
        "import numpy as np\n",
        "import scipy.sparse"
      ]
    },
    {
      "cell_type": "code",
      "source": [
        "class popularity_recommender_py():\n",
        "    def __init__(self):\n",
        "        self.train_data = None\n",
        "        self.user_id = None\n",
        "        self.item_id = None\n",
        "        self.popularity_recommendations = None\n",
        "        \n",
        "    #Create the popularity based recommender system model\n",
        "    def create(self, train_data, user_id, item_id):\n",
        "        self.train_data = train_data\n",
        "        self.user_id = user_id\n",
        "        self.item_id = item_id\n",
        "\n",
        "        #Get a count of user_ids for each unique song as recommendation score\n",
        "        train_data_grouped = train_data.groupby([self.item_id]).agg({self.user_id: 'count'}).reset_index()\n",
        "        train_data_grouped.rename(columns = {'user_id': 'score'},inplace=True)\n",
        "    \n",
        "        #Sort the songs based upon recommendation score\n",
        "        train_data_sort = train_data_grouped.sort_values(['score', self.item_id], ascending = [0,1])\n",
        "    \n",
        "        #Generate a recommendation rank based upon score\n",
        "        train_data_sort['Rank'] = train_data_sort['score'].rank(ascending=0, method='first')\n",
        "        \n",
        "        #Get the top 10 recommendations\n",
        "        self.popularity_recommendations = train_data_sort.head(10)\n",
        "\n",
        "    #Use the popularity based recommender system model to\n",
        "    #make recommendations\n",
        "    def recommend(self, user_id):    \n",
        "        user_recommendations = self.popularity_recommendations\n",
        "        \n",
        "        #Add user_id column for which the recommendations are being generated\n",
        "        user_recommendations['user_id'] = user_id\n",
        "    \n",
        "        #Bring user_id column to the front\n",
        "        cols = user_recommendations.columns.tolist()\n",
        "        cols = cols[-1:] + cols[:-1]\n",
        "        user_recommendations = user_recommendations[cols]\n",
        "        \n",
        "        return user_recommendations\n",
        "    \n",
        "\n",
        "#Class for Item similarity based Recommender System model\n",
        "class item_similarity_recommender_py():\n",
        "    def __init__(self):\n",
        "        self.train_data = None\n",
        "        self.user_id = None\n",
        "        self.item_id = None\n",
        "        self.cooccurence_matrix = None\n",
        "        self.songs_dict = None\n",
        "        self.rev_songs_dict = None\n",
        "        self.item_similarity_recommendations = None\n",
        "        \n",
        "    #Get unique items (songs) corresponding to a given user\n",
        "    def get_user_items(self, user):\n",
        "        user_data = self.train_data[self.train_data[self.user_id] == user]\n",
        "        user_items = list(user_data[self.item_id].unique())\n",
        "        \n",
        "        return user_items\n",
        "        \n",
        "    #Get unique users for a given item (song)\n",
        "    def get_item_users(self, item):\n",
        "        item_data = self.train_data[self.train_data[self.item_id] == item]\n",
        "        item_users = set(item_data[self.user_id].unique())\n",
        "            \n",
        "        return item_users\n",
        "        \n",
        "    #Get unique items (songs) in the training data\n",
        "    def get_all_items_train_data(self):\n",
        "        all_items = list(self.train_data[self.item_id].unique())\n",
        "            \n",
        "        return all_items\n",
        "        \n",
        "    #Construct cooccurence matrix\n",
        "    def construct_cooccurence_matrix(self, user_songs, all_songs):\n",
        "            \n",
        "        ####################################\n",
        "        #Get users for all songs in user_songs.\n",
        "        ####################################\n",
        "        user_songs_users = []        \n",
        "        for i in range(0, len(user_songs)):\n",
        "            user_songs_users.append(self.get_item_users(user_songs[i]))\n",
        "            \n",
        "        ###############################################\n",
        "        #Initialize the item cooccurence matrix of size \n",
        "        #len(user_songs) X len(songs)\n",
        "        ###############################################\n",
        "        cooccurence_matrix = np.matrix(np.zeros(shape=(len(user_songs), len(all_songs))), float)\n",
        "           \n",
        "        #############################################################\n",
        "        #Calculate similarity between user songs and all unique songs\n",
        "        #in the training data\n",
        "        #############################################################\n",
        "        for i in range(0,len(all_songs)):\n",
        "            #Calculate unique listeners (users) of song (item) i\n",
        "            songs_i_data = self.train_data[self.train_data[self.item_id] == all_songs[i]]\n",
        "            users_i = set(songs_i_data[self.user_id].unique())\n",
        "            \n",
        "            for j in range(0,len(user_songs)):       \n",
        "                    \n",
        "                #Get unique listeners (users) of song (item) j\n",
        "                users_j = user_songs_users[j]\n",
        "                    \n",
        "                #Calculate intersection of listeners of songs i and j\n",
        "                users_intersection = users_i.intersection(users_j)\n",
        "                \n",
        "                #Calculate cooccurence_matrix[i,j] as Jaccard Index\n",
        "                if len(users_intersection) != 0:\n",
        "                    #Calculate union of listeners of songs i and j\n",
        "                    users_union = users_i.union(users_j)\n",
        "                    \n",
        "                    cooccurence_matrix[j,i] = float(len(users_intersection))/float(len(users_union))\n",
        "                else:\n",
        "                    cooccurence_matrix[j,i] = 0\n",
        "                    \n",
        "        \n",
        "        return cooccurence_matrix\n",
        "\n",
        "    \n",
        "    #Use the cooccurence matrix to make top recommendations\n",
        "    def generate_top_recommendations(self, user, cooccurence_matrix, all_songs, user_songs):\n",
        "        print(\"Non zero values in cooccurence_matrix :%d\" % np.count_nonzero(cooccurence_matrix))\n",
        "        \n",
        "        #Calculate a weighted average of the scores in cooccurence matrix for all user songs.\n",
        "        user_sim_scores = cooccurence_matrix.sum(axis=0)/float(cooccurence_matrix.shape[0])\n",
        "        user_sim_scores = np.array(user_sim_scores)[0].tolist()\n",
        " \n",
        "        #Sort the indices of user_sim_scores based upon their value\n",
        "        #Also maintain the corresponding score\n",
        "        sort_index = sorted(((e,i) for i,e in enumerate(list(user_sim_scores))), reverse=True)\n",
        "    \n",
        "        #Create a dataframe from the following\n",
        "        columns = ['user_id', 'song', 'score', 'rank']\n",
        "        #index = np.arange(1) # array of numbers for the number of samples\n",
        "        df = pandas.DataFrame(columns=columns)\n",
        "         \n",
        "        #Fill the dataframe with top 10 item based recommendations\n",
        "        rank = 1 \n",
        "        for i in range(0,len(sort_index)):\n",
        "            if ~np.isnan(sort_index[i][0]) and all_songs[sort_index[i][1]] not in user_songs and rank <= 10:\n",
        "                df.loc[len(df)]=[user,all_songs[sort_index[i][1]],sort_index[i][0],rank]\n",
        "                rank = rank+1\n",
        "        \n",
        "        #Handle the case where there are no recommendations\n",
        "        if df.shape[0] == 0:\n",
        "            print(\"The current user has no songs for training the item similarity based recommendation model.\")\n",
        "            return -1\n",
        "        else:\n",
        "            return df\n",
        " \n",
        "    #Create the item similarity based recommender system model\n",
        "    def create(self, train_data, user_id, item_id):\n",
        "        self.train_data = train_data\n",
        "        self.user_id = user_id\n",
        "        self.item_id = item_id\n",
        "\n",
        "    #Use the item similarity based recommender system model to\n",
        "    #make recommendations\n",
        "    def recommend(self,user):\n",
        "        \n",
        "        ########################################\n",
        "        #A. Get all unique songs for this user\n",
        "        ########################################\n",
        "        user_songs = usersongs    \n",
        "            \n",
        "        print(\"No. of unique songs for the user: %d\" % len(user_songs))\n",
        "        \n",
        "        ######################################################\n",
        "        #B. Get all unique items (songs) in the training data\n",
        "        ######################################################\n",
        "        all_songs = self.get_all_items_train_data()\n",
        "        \n",
        "        print(\"no. of unique songs in the training set: %d\" % len(all_songs))\n",
        "         \n",
        "        ###############################################\n",
        "        #C. Construct item cooccurence matrix of size \n",
        "        #len(user_songs) X len(songs)\n",
        "        ###############################################\n",
        "        cooccurence_matrix = self.construct_cooccurence_matrix(user_songs, all_songs)\n",
        "        \n",
        "        #######################################################\n",
        "        #D. Use the cooccurence matrix to make recommendations\n",
        "        #######################################################\n",
        "        df_recommendations = self.generate_top_recommendations(user, cooccurence_matrix, all_songs, user_songs)\n",
        "                \n",
        "        return df_recommendations\n",
        "    \n",
        "    #Get similar items to given items\n",
        "    def get_similar_items(self, item_list):\n",
        "        \n",
        "        user_songs = item_list\n",
        "        \n",
        "        ######################################################\n",
        "        #B. Get all unique items (songs) in the training data\n",
        "        ######################################################\n",
        "        all_songs = self.get_all_items_train_data()\n",
        "        \n",
        "        print(\"no. of unique songs in the training set: %d\" % len(all_songs))\n",
        "         \n",
        "        ###############################################\n",
        "        #C. Construct item cooccurence matrix of size \n",
        "        #len(user_songs) X len(songs)\n",
        "        ###############################################\n",
        "        cooccurence_matrix = self.construct_cooccurence_matrix(user_songs, all_songs)\n",
        "        \n",
        "        #######################################################\n",
        "        #D. Use the cooccurence matrix to make recommendations\n",
        "        #######################################################\n",
        "        user = \"\"\n",
        "        df_recommendations = self.generate_top_recommendations(user, cooccurence_matrix, all_songs, user_songs)\n",
        "         \n",
        "        return df_recommendations\n",
        "\n",
        "\n",
        "\n",
        "\n",
        "\n",
        "\n",
        "\n",
        "\n",
        "\n"
      ],
      "metadata": {
        "id": "I_Ir79HKxGDV"
      },
      "execution_count": 3,
      "outputs": []
    },
    {
      "cell_type": "code",
      "source": [
        "DfSong1=pandas.read_table(\"/content/drive/MyDrive/ChatBot/10000.txt\",header=None)\n",
        "DfSong1.columns=['user_id','song_id','listen_count']\n",
        "print(len(DfSong1))\n",
        "print(DfSong1.head())\n",
        "DfSong1=DfSong1.iloc[:100000]\n",
        "print(len(DfSong1))\n",
        "print(DfSong1.head())\n",
        "\n",
        "\n",
        "DfSong2= pandas.read_csv(\"/content/drive/MyDrive/ChatBot/song_data.csv\")\n",
        "DfSong=pandas.merge(DfSong1, DfSong2.drop_duplicates(['song_id']), on=\"song_id\", how=\"left\")\n",
        "\n",
        "print(DfSong.head())"
      ],
      "metadata": {
        "colab": {
          "base_uri": "https://localhost:8080/"
        },
        "id": "GI91WOH3xGAs",
        "outputId": "67fbbd27-8b31-4191-bb85-57db74639402"
      },
      "execution_count": 4,
      "outputs": [
        {
          "output_type": "stream",
          "name": "stdout",
          "text": [
            "2000000\n",
            "                                    user_id             song_id  listen_count\n",
            "0  b80344d063b5ccb3212f76538f3d9e43d87dca9e  SOAKIMP12A8C130995             1\n",
            "1  b80344d063b5ccb3212f76538f3d9e43d87dca9e  SOBBMDR12A8C13253B             2\n",
            "2  b80344d063b5ccb3212f76538f3d9e43d87dca9e  SOBXHDL12A81C204C0             1\n",
            "3  b80344d063b5ccb3212f76538f3d9e43d87dca9e  SOBYHAJ12A6701BF1D             1\n",
            "4  b80344d063b5ccb3212f76538f3d9e43d87dca9e  SODACBL12A8C13C273             1\n",
            "100000\n",
            "                                    user_id             song_id  listen_count\n",
            "0  b80344d063b5ccb3212f76538f3d9e43d87dca9e  SOAKIMP12A8C130995             1\n",
            "1  b80344d063b5ccb3212f76538f3d9e43d87dca9e  SOBBMDR12A8C13253B             2\n",
            "2  b80344d063b5ccb3212f76538f3d9e43d87dca9e  SOBXHDL12A81C204C0             1\n",
            "3  b80344d063b5ccb3212f76538f3d9e43d87dca9e  SOBYHAJ12A6701BF1D             1\n",
            "4  b80344d063b5ccb3212f76538f3d9e43d87dca9e  SODACBL12A8C13C273             1\n",
            "                                    user_id             song_id  listen_count  \\\n",
            "0  b80344d063b5ccb3212f76538f3d9e43d87dca9e  SOAKIMP12A8C130995             1   \n",
            "1  b80344d063b5ccb3212f76538f3d9e43d87dca9e  SOBBMDR12A8C13253B             2   \n",
            "2  b80344d063b5ccb3212f76538f3d9e43d87dca9e  SOBXHDL12A81C204C0             1   \n",
            "3  b80344d063b5ccb3212f76538f3d9e43d87dca9e  SOBYHAJ12A6701BF1D             1   \n",
            "4  b80344d063b5ccb3212f76538f3d9e43d87dca9e  SODACBL12A8C13C273             1   \n",
            "\n",
            "             title                        release    artist_name  year  \n",
            "0         The Cove             Thicker Than Water   Jack Johnson     0  \n",
            "1  Entre Dos Aguas            Flamenco Para Niños  Paco De Lucia  1976  \n",
            "2         Stronger                     Graduation     Kanye West  2007  \n",
            "3   Constellations              In Between Dreams   Jack Johnson  2005  \n",
            "4     Learn To Fly  There Is Nothing Left To Lose   Foo Fighters  1999  \n"
          ]
        }
      ]
    },
    {
      "cell_type": "code",
      "source": [
        "GroupSong = DfSong.groupby(['title']).agg({'listen_count': 'count'}).reset_index()\n",
        "grouped_sum = GroupSong['listen_count'].sum()\n",
        "GroupSong['percentage']  = GroupSong['listen_count'].div(grouped_sum)*100\n",
        "GroupSong.sort_values(['listen_count', 'title'], ascending = [0,1])\n",
        "\n",
        "users = DfSong['user_id'].unique()\n",
        "print(len(users)) ## return 365 unique users\n",
        "songs = DfSong['title'].unique()\n",
        "print(len(songs)) ## return 5151 unique songs"
      ],
      "metadata": {
        "colab": {
          "base_uri": "https://localhost:8080/"
        },
        "id": "Djl2-mBdxF8V",
        "outputId": "2de73f03-d202-4d67-bafa-d969a9dd51c5"
      },
      "execution_count": 5,
      "outputs": [
        {
          "output_type": "stream",
          "name": "stdout",
          "text": [
            "3863\n",
            "9507\n"
          ]
        }
      ]
    },
    {
      "cell_type": "code",
      "source": [
        "train_data, test_data = train_test_split(DfSong, test_size = 0.20, random_state=0)\n",
        "\n",
        "pm = popularity_recommender_py()\n",
        "pm.create(train_data, 'user_id', 'title')#user the popularity model to make some prediction\n",
        "user_id = users[5]\n",
        "pm.recommend(user_id)\n",
        "\n",
        "is_model = item_similarity_recommender_py()\n",
        "is_model.create(train_data, 'user_id', 'title')\n",
        "\n",
        "#Print the songs for the user in training data\n",
        "user_id = users[5]\n",
        "user_items = is_model.get_user_items(user_id)\n",
        "#\n",
        "print(\"------------------------------------------------------------------------------------\")\n",
        "print(\"Training data songs for the user userid: %s:\" % user_id)\n",
        "print(\"------------------------------------------------------------------------------------\")\n",
        "\n",
        "for user_item in user_items:\n",
        "    print(user_item)\n",
        "\n",
        "print(\"----------------------------------------------------------------------\")\n",
        "print(\"Recommendation process going on:\")\n",
        "print(\"----------------------------------------------------------------------\")\n",
        "\n",
        "#Recommend songs for the user using personalized model\n"
      ],
      "metadata": {
        "colab": {
          "base_uri": "https://localhost:8080/"
        },
        "id": "9YRSrWm_xF5y",
        "outputId": "b36b5e5b-a6b1-4823-93fc-3a8c3f0796f7"
      },
      "execution_count": 6,
      "outputs": [
        {
          "output_type": "stream",
          "name": "stdout",
          "text": [
            "------------------------------------------------------------------------------------\n",
            "Training data songs for the user userid: 4bd88bfb25263a75bbdd467e74018f4ae570e5df:\n",
            "------------------------------------------------------------------------------------\n",
            "The Real Slim Shady\n",
            "16 Candles\n",
            "Ghosts 'n' Stuff (Original Instrumental Mix)\n",
            "Forgive Me\n",
            "Just Lose It\n",
            "Missing You\n",
            "Without Me\n",
            "Push It\n",
            "Say My Name\n",
            "My Dad's Gone Crazy\n",
            "Speechless\n",
            "Somebody To Love\n",
            "----------------------------------------------------------------------\n",
            "Recommendation process going on:\n",
            "----------------------------------------------------------------------\n"
          ]
        }
      ]
    },
    {
      "cell_type": "code",
      "source": [
        "is_model.recommend(user_id)"
      ],
      "metadata": {
        "colab": {
          "base_uri": "https://localhost:8080/",
          "height": 298
        },
        "id": "AXJHe1VV3L8y",
        "outputId": "67fb24ea-520c-4ac6-b78c-99ea713f639f"
      },
      "execution_count": 7,
      "outputs": [
        {
          "output_type": "error",
          "ename": "NameError",
          "evalue": "ignored",
          "traceback": [
            "\u001b[0;31m---------------------------------------------------------------------------\u001b[0m",
            "\u001b[0;31mNameError\u001b[0m                                 Traceback (most recent call last)",
            "\u001b[0;32m<ipython-input-7-18798c737c8d>\u001b[0m in \u001b[0;36m<module>\u001b[0;34m()\u001b[0m\n\u001b[0;32m----> 1\u001b[0;31m \u001b[0mis_model\u001b[0m\u001b[0;34m.\u001b[0m\u001b[0mrecommend\u001b[0m\u001b[0;34m(\u001b[0m\u001b[0muser_id\u001b[0m\u001b[0;34m)\u001b[0m\u001b[0;34m\u001b[0m\u001b[0;34m\u001b[0m\u001b[0m\n\u001b[0m",
            "\u001b[0;32m<ipython-input-3-6a108d0fd992>\u001b[0m in \u001b[0;36mrecommend\u001b[0;34m(self, user)\u001b[0m\n\u001b[1;32m    162\u001b[0m         \u001b[0;31m#A. Get all unique songs for this user\u001b[0m\u001b[0;34m\u001b[0m\u001b[0;34m\u001b[0m\u001b[0;34m\u001b[0m\u001b[0m\n\u001b[1;32m    163\u001b[0m         \u001b[0;31m########################################\u001b[0m\u001b[0;34m\u001b[0m\u001b[0;34m\u001b[0m\u001b[0;34m\u001b[0m\u001b[0m\n\u001b[0;32m--> 164\u001b[0;31m         \u001b[0muser_songs\u001b[0m \u001b[0;34m=\u001b[0m \u001b[0musersongs\u001b[0m\u001b[0;34m\u001b[0m\u001b[0;34m\u001b[0m\u001b[0m\n\u001b[0m\u001b[1;32m    165\u001b[0m \u001b[0;34m\u001b[0m\u001b[0m\n\u001b[1;32m    166\u001b[0m         \u001b[0mprint\u001b[0m\u001b[0;34m(\u001b[0m\u001b[0;34m\"No. of unique songs for the user: %d\"\u001b[0m \u001b[0;34m%\u001b[0m \u001b[0mlen\u001b[0m\u001b[0;34m(\u001b[0m\u001b[0muser_songs\u001b[0m\u001b[0;34m)\u001b[0m\u001b[0;34m)\u001b[0m\u001b[0;34m\u001b[0m\u001b[0;34m\u001b[0m\u001b[0m\n",
            "\u001b[0;31mNameError\u001b[0m: name 'usersongs' is not defined"
          ]
        }
      ]
    },
    {
      "cell_type": "code",
      "source": [
        "def InData(music):\n",
        "  listeTitle=DfSong2['title']\n",
        "  ret = False\n",
        "  print(listeTitle[0]==DfSong2['title'][0])\n",
        "  theId=\"\"\n",
        "  for i in range(len(listeTitle)):\n",
        "    if(music ==listeTitle[i] and ret==False):\n",
        "      ret =True\n",
        "      theId=DfSong2['song_id'][i]\n",
        "  print(theId)\n",
        "  print(len(DfSong2))\n",
        "  for j in range(len(DfSong1)):\n",
        "    #print(DfSong1['song_id'][j])\n",
        "    if theId==DfSong1['song_id'][j]:\n",
        "      print(\"c'est la fete\")\n",
        "  return ret"
      ],
      "metadata": {
        "id": "RDB6YaOsxFwK"
      },
      "execution_count": 8,
      "outputs": []
    },
    {
      "cell_type": "code",
      "source": [
        "print(InData(\"Learn To Fly\"))"
      ],
      "metadata": {
        "colab": {
          "base_uri": "https://localhost:8080/"
        },
        "id": "ZiBNflxfCcgL",
        "outputId": "559fa5c6-e88c-4764-a377-857fdf4b1f2a"
      },
      "execution_count": 9,
      "outputs": [
        {
          "output_type": "stream",
          "name": "stdout",
          "text": [
            "True\n",
            "SOACPCX12AB0186A0A\n",
            "1000000\n",
            "True\n"
          ]
        }
      ]
    },
    {
      "cell_type": "code",
      "source": [
        "print(DfSong2[0:150])"
      ],
      "metadata": {
        "colab": {
          "base_uri": "https://localhost:8080/"
        },
        "id": "AEFS8euEAZzr",
        "outputId": "1a01ae62-d620-4d2c-836f-443dc8d06840"
      },
      "execution_count": 79,
      "outputs": [
        {
          "output_type": "stream",
          "name": "stdout",
          "text": [
            "                song_id                   title  \\\n",
            "0    SOQMMHC12AB0180CB8            Silent Night   \n",
            "1    SOVFVAK12A8C1350D9             Tanssi vaan   \n",
            "2    SOGTUKN12AB017F4F1       No One Could Ever   \n",
            "3    SOBNYVR12A8C13558C           Si Vos Querés   \n",
            "4    SOHSBXH12A8C13B0DF        Tangle Of Aspens   \n",
            "..                  ...                     ...   \n",
            "145  SOGWEOB12AB018A4D0   I Say A Little Prayer   \n",
            "146  SOIHJKI12A8C13D474            Dawning Star   \n",
            "147  SOFMVOA12AB018240A           Irreplaceable   \n",
            "148  SOCELXR12AB017EB1B              AcroyearII   \n",
            "149  SOBAHCX12AB0183F7A  And Then You Went Away   \n",
            "\n",
            "                                               release         artist_name  \\\n",
            "0                                Monster Ballads X-Mas    Faster Pussy cat   \n",
            "1                                          Karkuteillä    Karkkiautomaatti   \n",
            "2                                               Butter      Hudson Mohawke   \n",
            "3                                              De Culo         Yerba Brava   \n",
            "4                 Rene Ablaze Presents Winter Sessions          Der Mystic   \n",
            "..                                                 ...                 ...   \n",
            "145  The Legendary Hi Records Albums_ Volume 3: Ful...            Al Green   \n",
            "146                                    Double Negative         The Muffins   \n",
            "147                     Get Your Stereo Deluxed Vol. 6  The Funky Lowlives   \n",
            "148                                                LP5            Autechre   \n",
            "149                                       Resurrection    Brian Vander Ark   \n",
            "\n",
            "     year  \n",
            "0    2003  \n",
            "1    1995  \n",
            "2    2006  \n",
            "3    2003  \n",
            "4       0  \n",
            "..    ...  \n",
            "145  1978  \n",
            "146     0  \n",
            "147  2002  \n",
            "148  1998  \n",
            "149  2004  \n",
            "\n",
            "[150 rows x 5 columns]\n"
          ]
        }
      ]
    },
    {
      "cell_type": "code",
      "source": [
        "train_data, test_data = train_test_split(DfSong, test_size = 0.20, random_state=0)\n",
        "\n",
        "pm = popularity_recommender_py()\n",
        "pm.create(train_data, 'user_id', 'title')#user the popularity model to make some prediction\n",
        "user_id = users[5]\n",
        "pm.recommend(user_id)\n",
        "\n",
        "is_model = item_similarity_recommender_py()\n",
        "is_model.create(train_data, 'user_id', 'title')\n",
        "\n",
        "#Print the songs for the user in training data\n",
        "user_id = \"Utilisateur\"\n",
        "test=\"Rockin' In The Free World\"\n",
        "usersongs = [test]\n",
        "\n",
        "onCherche=InData(test)\n",
        "print(onCherche)\n",
        "print(\"------------------------------------------------------------------------------------\")\n",
        "print(\"Training data songs for the user userid: %s:\" % user_id)\n",
        "print(\"------------------------------------------------------------------------------------\")\n",
        "\n",
        "if onCherche==True:\n",
        "  print(\"----------------------------------------------------------------------\")\n",
        "  print(test+\" is in the list ! Recommendation process going on:\")\n",
        "  print(\"----------------------------------------------------------------------\")\n",
        "\n",
        "  print(is_model.recommend(user_id))"
      ],
      "metadata": {
        "colab": {
          "base_uri": "https://localhost:8080/"
        },
        "id": "B28zwEgE3XNo",
        "outputId": "c19ed7d9-1808-4c92-833e-d09dbcee2f53"
      },
      "execution_count": 10,
      "outputs": [
        {
          "output_type": "stream",
          "name": "stdout",
          "text": [
            "True\n",
            "SOHWKYI12A8C136434\n",
            "1000000\n",
            "True\n",
            "------------------------------------------------------------------------------------\n",
            "Training data songs for the user userid: Utilisateur:\n",
            "------------------------------------------------------------------------------------\n",
            "----------------------------------------------------------------------\n",
            "Rockin' In The Free World is in the list ! Recommendation process going on:\n",
            "----------------------------------------------------------------------\n",
            "No. of unique songs for the user: 1\n",
            "no. of unique songs in the training set: 9415\n",
            "Non zero values in cooccurence_matrix :0\n",
            "       user_id                   song  score rank\n",
            "0  Utilisateur                 Rocker    0.0    1\n",
            "1  Utilisateur  Mercedes Benz - Remix    0.0    2\n",
            "2  Utilisateur              Composure    0.0    3\n",
            "3  Utilisateur    The Walking Wounded    0.0    4\n",
            "4  Utilisateur           Out Of Exile    0.0    5\n",
            "5  Utilisateur            Many Ghosts    0.0    6\n",
            "6  Utilisateur            On Your Way    0.0    7\n",
            "7  Utilisateur             Blue Shoes    0.0    8\n",
            "8  Utilisateur  Back To The Old House    0.0    9\n",
            "9  Utilisateur             Keine Lust    0.0   10\n"
          ]
        }
      ]
    }
  ]
}